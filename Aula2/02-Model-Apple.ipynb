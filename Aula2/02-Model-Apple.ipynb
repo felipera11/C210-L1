{
 "cells": [
  {
   "cell_type": "markdown",
   "metadata": {},
   "source": [
    "# Import"
   ]
  },
  {
   "cell_type": "markdown",
   "metadata": {},
   "source": [
    "## Setup"
   ]
  },
  {
   "cell_type": "code",
   "execution_count": 18,
   "metadata": {},
   "outputs": [],
   "source": [
    "import pandas as pd\n",
    "import numpy as np\n",
    "import matplotlib.pyplot as plt\n",
    "import seaborn as sns\n",
    "\n",
    "from IPython.display import display, Markdown\n",
    "\n",
    "sns.set_theme(style=\"darkgrid\")\n",
    "pd.set_option('display.max_columns', None)  \n",
    "\n",
    "DEBUG = False\n",
    "SEED = 666"
   ]
  },
  {
   "cell_type": "markdown",
   "metadata": {},
   "source": [
    "## Load Dataset"
   ]
  },
  {
   "cell_type": "code",
   "execution_count": 19,
   "metadata": {},
   "outputs": [],
   "source": [
    "df = pd.read_pickle(\"data/apple.pickle\")"
   ]
  },
  {
   "cell_type": "code",
   "execution_count": 20,
   "metadata": {},
   "outputs": [
    {
     "name": "stdout",
     "output_type": "stream",
     "text": [
      "(4000, 8)\n"
     ]
    },
    {
     "data": {
      "text/html": [
       "<div>\n",
       "<style scoped>\n",
       "    .dataframe tbody tr th:only-of-type {\n",
       "        vertical-align: middle;\n",
       "    }\n",
       "\n",
       "    .dataframe tbody tr th {\n",
       "        vertical-align: top;\n",
       "    }\n",
       "\n",
       "    .dataframe thead th {\n",
       "        text-align: right;\n",
       "    }\n",
       "</style>\n",
       "<table border=\"1\" class=\"dataframe\">\n",
       "  <thead>\n",
       "    <tr style=\"text-align: right;\">\n",
       "      <th></th>\n",
       "      <th>Size</th>\n",
       "      <th>Weight</th>\n",
       "      <th>Sweetness</th>\n",
       "      <th>Crunchiness</th>\n",
       "      <th>Juiciness</th>\n",
       "      <th>Ripeness</th>\n",
       "      <th>Acidity</th>\n",
       "      <th>Target</th>\n",
       "    </tr>\n",
       "  </thead>\n",
       "  <tbody>\n",
       "    <tr>\n",
       "      <th>0</th>\n",
       "      <td>-1.798424</td>\n",
       "      <td>-0.950373</td>\n",
       "      <td>2.993421</td>\n",
       "      <td>-1.424150</td>\n",
       "      <td>0.690545</td>\n",
       "      <td>-0.089872</td>\n",
       "      <td>-0.269415</td>\n",
       "      <td>0</td>\n",
       "    </tr>\n",
       "    <tr>\n",
       "      <th>1</th>\n",
       "      <td>-0.359060</td>\n",
       "      <td>-1.154404</td>\n",
       "      <td>2.127698</td>\n",
       "      <td>0.429746</td>\n",
       "      <td>0.176767</td>\n",
       "      <td>0.197020</td>\n",
       "      <td>-0.378997</td>\n",
       "      <td>0</td>\n",
       "    </tr>\n",
       "    <tr>\n",
       "      <th>2</th>\n",
       "      <td>0.109445</td>\n",
       "      <td>-0.225759</td>\n",
       "      <td>-0.652507</td>\n",
       "      <td>-0.946892</td>\n",
       "      <td>1.205422</td>\n",
       "      <td>-0.286156</td>\n",
       "      <td>1.206044</td>\n",
       "      <td>1</td>\n",
       "    </tr>\n",
       "    <tr>\n",
       "      <th>3</th>\n",
       "      <td>-0.079977</td>\n",
       "      <td>-0.800146</td>\n",
       "      <td>0.923916</td>\n",
       "      <td>-0.772399</td>\n",
       "      <td>1.619575</td>\n",
       "      <td>-2.087320</td>\n",
       "      <td>0.338315</td>\n",
       "      <td>0</td>\n",
       "    </tr>\n",
       "    <tr>\n",
       "      <th>4</th>\n",
       "      <td>0.968573</td>\n",
       "      <td>-0.191640</td>\n",
       "      <td>0.044164</td>\n",
       "      <td>-1.096894</td>\n",
       "      <td>1.305025</td>\n",
       "      <td>-0.961548</td>\n",
       "      <td>0.201472</td>\n",
       "      <td>0</td>\n",
       "    </tr>\n",
       "  </tbody>\n",
       "</table>\n",
       "</div>"
      ],
      "text/plain": [
       "       Size    Weight  Sweetness  Crunchiness  Juiciness  Ripeness   Acidity  \\\n",
       "0 -1.798424 -0.950373   2.993421    -1.424150   0.690545 -0.089872 -0.269415   \n",
       "1 -0.359060 -1.154404   2.127698     0.429746   0.176767  0.197020 -0.378997   \n",
       "2  0.109445 -0.225759  -0.652507    -0.946892   1.205422 -0.286156  1.206044   \n",
       "3 -0.079977 -0.800146   0.923916    -0.772399   1.619575 -2.087320  0.338315   \n",
       "4  0.968573 -0.191640   0.044164    -1.096894   1.305025 -0.961548  0.201472   \n",
       "\n",
       "   Target  \n",
       "0       0  \n",
       "1       0  \n",
       "2       1  \n",
       "3       0  \n",
       "4       0  "
      ]
     },
     "execution_count": 20,
     "metadata": {},
     "output_type": "execute_result"
    }
   ],
   "source": [
    "print(df.shape)\n",
    "df.head()"
   ]
  },
  {
   "cell_type": "markdown",
   "metadata": {},
   "source": [
    "# Baseline Model"
   ]
  },
  {
   "cell_type": "code",
   "execution_count": 21,
   "metadata": {},
   "outputs": [],
   "source": [
    "from sklearn.ensemble import RandomForestClassifier\n",
    "from sklearn.svm import SVC\n",
    "from lightgbm import LGBMClassifier\n",
    "from xgboost import XGBClassifier\n",
    "from sklearn.neighbors import KNeighborsClassifier\n",
    "from sklearn.metrics import accuracy_score, confusion_matrix, classification_report\n",
    "from sklearn.metrics import roc_curve, auc"
   ]
  },
  {
   "cell_type": "markdown",
   "metadata": {},
   "source": [
    "## Split"
   ]
  },
  {
   "cell_type": "code",
   "execution_count": 22,
   "metadata": {},
   "outputs": [
    {
     "name": "stdout",
     "output_type": "stream",
     "text": [
      "Training set shape: (3200, 7)\n",
      "Testing set shape: (800, 7)\n"
     ]
    }
   ],
   "source": [
    "from sklearn.model_selection import train_test_split\n",
    "\n",
    "# Split the dataset into training and testing sets\n",
    "X_train, X_test, y_train, y_test = train_test_split(df.drop('Target', axis=1), df['Target'], test_size=0.2, random_state=SEED)\n",
    "\n",
    "# Print the shapes of the training and testing sets\n",
    "print(\"Training set shape:\", X_train.shape)\n",
    "print(\"Testing set shape:\", X_test.shape)"
   ]
  },
  {
   "cell_type": "markdown",
   "metadata": {},
   "source": [
    "## Train"
   ]
  },
  {
   "cell_type": "code",
   "execution_count": 23,
   "metadata": {},
   "outputs": [
    {
     "name": "stdout",
     "output_type": "stream",
     "text": [
      "[LightGBM] [Info] Number of positive: 1586, number of negative: 1614\n",
      "[LightGBM] [Info] Auto-choosing col-wise multi-threading, the overhead of testing was 0.000554 seconds.\n",
      "You can set `force_col_wise=true` to remove the overhead.\n",
      "[LightGBM] [Info] Total Bins 1785\n",
      "[LightGBM] [Info] Number of data points in the train set: 3200, number of used features: 7\n",
      "[LightGBM] [Info] [binary:BoostFromScore]: pavg=0.495625 -> initscore=-0.017500\n",
      "[LightGBM] [Info] Start training from score -0.017500\n"
     ]
    }
   ],
   "source": [
    "# Create an instance of each classifier\n",
    "rf_classifier = RandomForestClassifier()\n",
    "svc_classifier = SVC()\n",
    "lgbm_classifier = LGBMClassifier()\n",
    "xgb_classifier = XGBClassifier()\n",
    "knn_classifier = KNeighborsClassifier()\n",
    "\n",
    "# Train the models\n",
    "rf_classifier.fit(X_train, y_train)\n",
    "svc_classifier.fit(X_train, y_train)\n",
    "lgbm_classifier.fit(X_train, y_train)\n",
    "xgb_classifier.fit(X_train, y_train)\n",
    "knn_classifier.fit(X_train, y_train)\n",
    "\n",
    "# Make predictions\n",
    "rf_predictions = rf_classifier.predict(X_test)\n",
    "svc_predictions = svc_classifier.predict(X_test)\n",
    "lgbm_predictions = lgbm_classifier.predict(X_test)\n",
    "xgb_predictions = xgb_classifier.predict(X_test)\n",
    "knn_predictions = knn_classifier.predict(X_test)\n",
    "\n"
   ]
  },
  {
   "cell_type": "markdown",
   "metadata": {},
   "source": [
    "## Test"
   ]
  },
  {
   "cell_type": "code",
   "execution_count": 24,
   "metadata": {},
   "outputs": [],
   "source": [
    "# Evaluate the models\n",
    "rf_accuracy = accuracy_score(y_test, rf_predictions)\n",
    "svc_accuracy = accuracy_score(y_test, svc_predictions)\n",
    "lgbm_accuracy = accuracy_score(y_test, lgbm_predictions)\n",
    "xgb_accuracy = accuracy_score(y_test, xgb_predictions)\n",
    "knn_accuracy = accuracy_score(y_test, knn_predictions)\n",
    "\n"
   ]
  },
  {
   "cell_type": "markdown",
   "metadata": {},
   "source": [
    "## Resultados"
   ]
  },
  {
   "cell_type": "code",
   "execution_count": 25,
   "metadata": {},
   "outputs": [
    {
     "name": "stdout",
     "output_type": "stream",
     "text": [
      "Random Forest Accuracy: 0.90875\n",
      "SVC Accuracy: 0.9025\n",
      "LGBM Accuracy: 0.89625\n",
      "XGB Accuracy: 0.9075\n",
      "KNN Accuracy: 0.915\n"
     ]
    }
   ],
   "source": [
    "# Print the accuracies\n",
    "print(\"Random Forest Accuracy:\", rf_accuracy)\n",
    "print(\"SVC Accuracy:\", svc_accuracy)\n",
    "print(\"LGBM Accuracy:\", lgbm_accuracy)\n",
    "print(\"XGB Accuracy:\", xgb_accuracy)\n",
    "print(\"KNN Accuracy:\", knn_accuracy)"
   ]
  },
  {
   "cell_type": "markdown",
   "metadata": {},
   "source": [
    "# Questões"
   ]
  },
  {
   "cell_type": "markdown",
   "metadata": {},
   "source": [
    "**Pergunta:** Qual é a diferença entre dados de treinamento e dados de teste ao treinar um modelo de classificação?\n"
   ]
  },
  {
   "cell_type": "markdown",
   "metadata": {},
   "source": [
    "Dados de treinamento são os dados que o modelo usa para aprender os padrões dos dados. Os dados de testes são dados não vistos anteriormente para o modelo, usados para avaliar se o modelo consegue trabalhar com dados não vistos anteriormente."
   ]
  },
  {
   "cell_type": "markdown",
   "metadata": {},
   "source": [
    "**Pergunta:** Com base no dataset fornecido, a abordagem do treinamento do modelo deve ser `supervisionada` ou `não-supervisionada`? Por quê?\n"
   ]
  },
  {
   "cell_type": "markdown",
   "metadata": {},
   "source": [
    "Supervisionado, pois o dataset possui a variável target que é a variável que o modelo deve prever."
   ]
  }
 ],
 "metadata": {
  "kernelspec": {
   "display_name": "Python 3",
   "language": "python",
   "name": "python3"
  },
  "language_info": {
   "codemirror_mode": {
    "name": "ipython",
    "version": 3
   },
   "file_extension": ".py",
   "mimetype": "text/x-python",
   "name": "python",
   "nbconvert_exporter": "python",
   "pygments_lexer": "ipython3",
   "version": "3.12.5"
  }
 },
 "nbformat": 4,
 "nbformat_minor": 2
}
