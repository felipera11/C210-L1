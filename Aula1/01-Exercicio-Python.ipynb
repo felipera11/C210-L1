{
 "cells": [
  {
   "cell_type": "markdown",
   "metadata": {},
   "source": [
    "### Calculadora Simples:\n",
    "Crie uma calculadora que possa realizar operações básicas como adição, subtração, multiplicação e divisão. Permita que o usuário escolha a operação desejada e forneça os números para realizar o cálculo."
   ]
  },
  {
   "cell_type": "code",
   "execution_count": null,
   "metadata": {},
   "outputs": [],
   "source": [
    "def calculadora():\n",
    "    operacao = input(\"Escolha uma operação (+, -, *, /): \")\n",
    "    num1 = float(input(\"Digite o primeiro número: \"))\n",
    "    num2 = float(input(\"Digite o segundo número: \"))\n",
    "\n",
    "    if operacao == '+':\n",
    "        resultado = num1 + num2\n",
    "    elif operacao == '-':\n",
    "        resultado = num1 - num2\n",
    "    elif operacao == '*':\n",
    "        resultado = num1 * num2\n",
    "    elif operacao == '/':\n",
    "        resultado = num1 / num2\n",
    "    else:\n",
    "        print(\"Operação inválida!\")\n",
    "\n",
    "    print(\"Resultado:\", resultado)\n",
    "\n",
    "calculadora()"
   ]
  },
  {
   "cell_type": "markdown",
   "metadata": {},
   "source": [
    "### Verificador de Números Primos:\n",
    "Escreva uma função que verifica se um número fornecido pelo usuário é primo ou não.\n"
   ]
  },
  {
   "cell_type": "code",
   "execution_count": null,
   "metadata": {},
   "outputs": [],
   "source": [
    "def is_prime(number):\n",
    "    if number < 2:\n",
    "        return False\n",
    "    for i in range(2, number):\n",
    "        if number % i == 0:\n",
    "            return False\n",
    "    return True\n"
   ]
  },
  {
   "cell_type": "markdown",
   "metadata": {},
   "source": [
    "### Conversor de Temperatura:\n",
    "Crie um programa que converte uma temperatura de Celsius para Fahrenheit e vice-versa, com base na escolha do usuário.\n"
   ]
  },
  {
   "cell_type": "code",
   "execution_count": null,
   "metadata": {},
   "outputs": [],
   "source": [
    "def converter_temperatura():\n",
    "    escolha = input(\"Escolha uma opção (1 para Celsius para Fahrenheit, 2 para Fahrenheit para Celsius): \")\n",
    "\n",
    "    if escolha == '1':\n",
    "        celsius = float(input(\"Digite a temperatura em Celsius: \"))\n",
    "        fahrenheit = (celsius * 9/5) + 32\n",
    "        print(\"Temperatura em Fahrenheit:\", fahrenheit)\n",
    "    elif escolha == '2':\n",
    "        fahrenheit = float(input(\"Digite a temperatura em Fahrenheit: \"))\n",
    "        celsius = (fahrenheit - 32) * 5/9\n",
    "        print(\"Temperatura em Celsius:\", celsius)\n",
    "    else:\n",
    "        print(\"Escolha inválida!\")\n",
    "\n",
    "converter_temperatura()"
   ]
  },
  {
   "cell_type": "markdown",
   "metadata": {},
   "source": [
    "### Contador de Palavras:\n",
    "Crie uma função que conta o número de palavras em uma frase fornecida pelo usuário.\n"
   ]
  },
  {
   "cell_type": "code",
   "execution_count": null,
   "metadata": {},
   "outputs": [],
   "source": [
    "def contar_palavras(frase):\n",
    "    palavras = frase.split()\n",
    "    return len(palavras)\n",
    "\n",
    "frase_usuario = input(\"Digite uma frase: \")\n",
    "quantidade_palavras = contar_palavras(frase_usuario)\n",
    "print(\"Número de palavras:\", quantidade_palavras)"
   ]
  },
  {
   "cell_type": "markdown",
   "metadata": {},
   "source": [
    "### Tabuada:\n",
    "Escreva um programa que exibe a tabuada de um número fornecido pelo usuário."
   ]
  },
  {
   "cell_type": "code",
   "execution_count": null,
   "metadata": {},
   "outputs": [],
   "source": [
    "def exibir_tabuada():\n",
    "    numero = int(input(\"Digite um número para exibir a tabuada: \"))\n",
    "\n",
    "    for i in range(1, 11):\n",
    "        resultado = numero * i\n",
    "        print(f\"{numero} x {i} = {resultado}\")\n",
    "\n",
    "exibir_tabuada()"
   ]
  },
  {
   "cell_type": "markdown",
   "metadata": {},
   "source": [
    "### Renomeador de Títulos:\n",
    "Escreva um programa que recebe uma array com nomes de colunas em uma tabela, arrume os nomes das colunas para que todas as palavras tenham a primeira letra maiúscula e substitua espaços por underlines(_).\n"
   ]
  },
  {
   "cell_type": "markdown",
   "metadata": {},
   "source": [
    "column_names = [\"account balance\", \"LoaN duration\", \"CREDIT History\", \n",
    "    \"loan_Purpose\", \"LOAN_Amount\", \"Savings\", \"Years_Employed\", \n",
    "    \"Installment_Rate\", \"Gender and Status\", \"OtheR Debtors_Guarantors\",\n",
    "    \"Year_of_Residence\", \"ProperTy\", \"AGe\", \"InstaLlment Plans\", \"HouSing\", \"ExistiNg_credits\", \"Job\", \"Dependents\", \n",
    "    \"Telephone\", \"Foreign\", \n",
    "    \"Credit_rating\"]"
   ]
  },
  {
   "cell_type": "code",
   "execution_count": null,
   "metadata": {},
   "outputs": [],
   "source": [
    "column_names = [\"account balance\", \"LoaN duration\", \"CREDIT History\", \n",
    "    \"loan_Purpose\", \"LOAN_Amount\", \"Savings\", \"Years_Employed\", \n",
    "    \"Installment_Rate\", \"Gender and Status\", \"OtheR Debtors_Guarantors\",\n",
    "    \"Year_of_Residence\", \"ProperTy\", \"AGe\", \"InstaLlment Plans\", \"HouSing\", \"ExistiNg_credits\", \"Job\", \"Dependents\", \n",
    "    \"Telephone\", \"Foreign\", \n",
    "    \"Credit_rating\"]\n",
    "\n",
    "fixed_column_names = [name.title().replace(\" \", \"_\") for name in column_names]\n",
    "print(fixed_column_names)"
   ]
  }
 ],
 "metadata": {
  "kernelspec": {
   "display_name": "Python 3",
   "language": "python",
   "name": "python3"
  },
  "language_info": {
   "codemirror_mode": {
    "name": "ipython",
    "version": 3
   },
   "file_extension": ".py",
   "mimetype": "text/x-python",
   "name": "python",
   "nbconvert_exporter": "python",
   "pygments_lexer": "ipython3",
   "version": "3.11.4"
  }
 },
 "nbformat": 4,
 "nbformat_minor": 2
}
